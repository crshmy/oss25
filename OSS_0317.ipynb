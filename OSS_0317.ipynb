{
  "nbformat": 4,
  "nbformat_minor": 0,
  "metadata": {
    "colab": {
      "provenance": [],
      "authorship_tag": "ABX9TyNYd8apnPxk0tIiKXfjvhLN",
      "include_colab_link": true
    },
    "kernelspec": {
      "name": "python3",
      "display_name": "Python 3"
    },
    "language_info": {
      "name": "python"
    }
  },
  "cells": [
    {
      "cell_type": "markdown",
      "metadata": {
        "id": "view-in-github",
        "colab_type": "text"
      },
      "source": [
        "<a href=\"https://colab.research.google.com/github/crshmy/oss25/blob/main/OSS_0317.ipynb\" target=\"_parent\"><img src=\"https://colab.research.google.com/assets/colab-badge.svg\" alt=\"Open In Colab\"/></a>"
      ]
    },
    {
      "cell_type": "markdown",
      "source": [
        "# 공학용 계산기 만들기"
      ],
      "metadata": {
        "id": "A8HXVuk1HgQQ"
      }
    },
    {
      "cell_type": "markdown",
      "source": [
        "# 공학용 계산기 개발의 필요성\n",
        "본 프로젝트는 많은 학생들이 공학용 계산기를 구매 해야하는 문제를 해결하기 위해 만들었습니다.\n",
        "예를 들면, $x^6$ 을 개발하는게 어렵습니다. (?)"
      ],
      "metadata": {
        "id": "N5HPrSv2E6ev"
      }
    },
    {
      "cell_type": "markdown",
      "source": [
        "# 초기 값 입력"
      ],
      "metadata": {
        "id": "D3yWoPsXJLXu"
      }
    },
    {
      "cell_type": "code",
      "source": [
        "# @title Example form fields\n",
        "# @markdown Forms support many types of fields.\n",
        "\n",
        "slider_value = 142  # @param {type: \"slider\", min: 100, max: 200}\n",
        "x = 300  # @param {type: \"number\"}\n",
        "y = 102\n",
        "date = '2010-11-05'  # @param {type: \"date\"}\n",
        "pick_me = \"monday\"  # @param ['monday', 'tuesday', 'wednesday', 'thursday']\n",
        "select_or_input = \"apples\" # @param [\"apples\", \"bananas\", \"oranges\"] {allow-input: true}\n",
        "# @markdown ---"
      ],
      "metadata": {
        "id": "vzUNFxkzJPvg"
      },
      "execution_count": null,
      "outputs": []
    },
    {
      "cell_type": "markdown",
      "source": [
        "# 지수 값 구하기"
      ],
      "metadata": {
        "id": "RvCkeLG7FoWn"
      }
    },
    {
      "cell_type": "code",
      "source": [
        "x = 2\n",
        "\n",
        "x6 = x*x*x*x*x*x\n",
        "x6\n",
        "\n",
        "if x6 > 2000000:\n",
        "  print(\"너무 큰 수를 입력하셨습니다\")"
      ],
      "metadata": {
        "id": "IzJg5AT8GK30"
      },
      "execution_count": 6,
      "outputs": []
    }
  ]
}